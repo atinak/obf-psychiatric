{
 "cells": [
  {
   "cell_type": "code",
   "execution_count": 1,
   "metadata": {
    "colab": {
     "base_uri": "https://localhost:8080/"
    },
    "id": "wRiCkW4gCZ_e",
    "outputId": "b8604754-a5b7-4ef0-a5de-3f153da21a72"
   },
   "outputs": [
    {
     "name": "stdout",
     "output_type": "stream",
     "text": [
      "CUDA Available: True\n"
     ]
    }
   ],
   "source": [
    "# from google.colab import drive\n",
    "# drive.mount('/gdrive')\n",
    "# %cd /gdrive\n",
    "# root_project = \"./MyDrive/Colab Notebooks/OBF_Psychiatric_a_motor_activity_dataset_of_patients_diagnosed_with_major_depression_schizophrenia_and_ADHD\"\n",
    "\n",
    "# import sys\n",
    "# sys.path.append(root_project)\n",
    "\n",
    "import torch\n",
    "print(\"CUDA Available:\", torch.cuda.is_available())\n",
    "\n"
   ]
  },
  {
   "cell_type": "code",
   "execution_count": 1,
   "metadata": {
    "colab": {
     "base_uri": "https://localhost:8080/",
     "height": 1000
    },
    "id": "OY9bKQKnGVMn",
    "outputId": "99b71c6c-51e7-4ff0-d614-4afaba1271ec"
   },
   "outputs": [],
   "source": [
    "import torch\n",
    "import torch.nn as nn\n",
    "import torch.optim as optim\n",
    "from torch.optim.lr_scheduler import StepLR\n",
    "from sklearn.model_selection import GroupKFold, train_test_split \n",
    "\n",
    "from torch.utils.data import Dataset, DataLoader, random_split\n",
    "\n",
    "\n",
    "\n",
    "import os\n",
    "import glob\n",
    "import logging\n",
    "from typing import Dict, List, Tuple, Optional, Union\n",
    "from deep_learning_models import SimpleNN, MoreComplexNN\n",
    "from deep_learning_models import train_model, evaluate_model, plot_loss_function\n",
    "from obf_class import OBFDataset\n",
    "# Configure logging\n",
    "logging.basicConfig(level=logging.INFO, format='%(asctime)s - %(levelname)s - %(message)s')\n",
    "\n",
    "\n",
    "data_directory = './obf_psy_dataset/'\n",
    "# obf_data = OBFPsychiatricData(data_directory)\n",
    "\n",
    "groups_to_include = ['control', 'depression', 'schizophrenia']\n",
    "\n",
    "\n",
    "\n"
   ]
  },
  {
   "cell_type": "markdown",
   "metadata": {},
   "source": [
    "## Simple models"
   ]
  },
  {
   "cell_type": "code",
   "execution_count": null,
   "metadata": {},
   "outputs": [],
   "source": [
    "dataset = OBFDataset(data_directory, groups_to_include,save=True, seq_len=1)  # Use seq_len=1 for now\n",
    "\n",
    "# Split into training and testing sets\n",
    "train_size = int(0.8 * len(dataset))\n",
    "test_size = len(dataset) - train_size\n",
    "train_dataset, test_dataset = random_split(dataset, [train_size, test_size])\n",
    "\n",
    "# Create data loaders\n",
    "batch_size = 32\n",
    "train_loader = DataLoader(train_dataset, batch_size=batch_size, shuffle=True)\n",
    "test_loader = DataLoader(test_dataset, batch_size=batch_size, shuffle=False)\n",
    "\n",
    "# --- Model Definition and Training ---\n",
    "input_size = dataset.features.shape[1]\n",
    "hidden_size_1 = 64\n",
    "hidden_size_2 = 64\n",
    "num_classes = len(dataset.get_classes())\n",
    "activation_function = nn.Sigmoid()\n",
    "model = SimpleNN(input_size, hidden_size_1, num_classes,activation_function=activation_function)\n",
    "# model = MoreComplexNN(input_size, hidden_size_1, hidden_size_2, num_classes,activation_function=activation_function)\n",
    "model_name = 'SimpleNN_sigmoid_dropout_regularization_Adam_64_scheduler'\n",
    "# --- Device (CPU or GPU) ---\n",
    "device = torch.device('cuda' if torch.cuda.is_available() else 'cpu')\n",
    "print(f\"Using device: {device}\")\n",
    "model.to(device)\n",
    "\n",
    "criterion = nn.CrossEntropyLoss()\n",
    "optimizer = optim.Adam(model.parameters(), lr=0.001, weight_decay=1e-5)\n",
    "# optimizer = optim.SGD(model.parameters(), lr=0.001, weight_decay=1e-5)\n",
    "scheduler = StepLR(optimizer, step_size=30, gamma=0.1)  # Reduce LR by 0.1 every 30 epochs\n",
    "\n",
    "num_epochs = 300 #increased for better convergence\n",
    "train_losses, val_losses = train_model(model, train_loader, criterion, optimizer, num_epochs, test_loader, scheduler=scheduler,device=device)\n",
    "\n",
    "# --- Evaluation ---\n",
    "class_names = dataset.get_classes() #get class names\n",
    "evaluate_model(model, test_loader, class_names, model_name,device=device)\n",
    "\n",
    " # --- Saving and Loading the Model ---\n",
    "os.makedirs('./models', exist_ok=True)  # Ensure the models directory exists\n",
    "torch.save(model.state_dict(), './models/'+model_name+'_pytorch_model.pth')\n",
    "print(\"Model saved to './models/\"+model_name+\"_pytorch_model.pth'\")\n",
    "\n",
    "# --- Plotting Training and Validation Loss ---\n",
    "plot_loss_function(train_losses,val_losses,model_name)"
   ]
  },
  {
   "cell_type": "markdown",
   "metadata": {},
   "source": [
    "## advanced models"
   ]
  },
  {
   "cell_type": "code",
   "execution_count": 3,
   "metadata": {},
   "outputs": [
    {
     "ename": "RuntimeError",
     "evalue": "shape '[-1, 7, 21]' is invalid for input of size 29127",
     "output_type": "error",
     "traceback": [
      "\u001b[0;31m---------------------------------------------------------------------------\u001b[0m",
      "\u001b[0;31mRuntimeError\u001b[0m                              Traceback (most recent call last)",
      "Cell \u001b[0;32mIn[3], line 3\u001b[0m\n\u001b[1;32m      1\u001b[0m \u001b[38;5;28;01mfrom\u001b[39;00m \u001b[38;5;21;01mmodels\u001b[39;00m \u001b[38;5;28;01mimport\u001b[39;00m LSTMModel, CNN1DModel, TransformerModel\n\u001b[1;32m      2\u001b[0m \u001b[38;5;66;03m# Use seq_len > 1 for LSTM, CNN, Transformer\u001b[39;00m\n\u001b[0;32m----> 3\u001b[0m dataset \u001b[38;5;241m=\u001b[39m \u001b[43mOBFDataset\u001b[49m\u001b[43m(\u001b[49m\u001b[43mdata_directory\u001b[49m\u001b[43m,\u001b[49m\u001b[43m \u001b[49m\u001b[43mgroups_to_include\u001b[49m\u001b[43m,\u001b[49m\u001b[43m \u001b[49m\u001b[43mseq_len\u001b[49m\u001b[38;5;241;43m=\u001b[39;49m\u001b[38;5;241;43m7\u001b[39;49m\u001b[43m,\u001b[49m\u001b[43m \u001b[49m\u001b[43muse_seq\u001b[49m\u001b[38;5;241;43m=\u001b[39;49m\u001b[38;5;28;43;01mTrue\u001b[39;49;00m\u001b[43m)\u001b[49m \u001b[38;5;66;03m#use seq and groupKfold\u001b[39;00m\n\u001b[1;32m      5\u001b[0m \u001b[38;5;66;03m# --- GroupKFold Cross-Validation ---\u001b[39;00m\n\u001b[1;32m      6\u001b[0m group_kfold \u001b[38;5;241m=\u001b[39m GroupKFold(n_splits\u001b[38;5;241m=\u001b[39m\u001b[38;5;241m5\u001b[39m)  \u001b[38;5;66;03m# Use 5 folds\u001b[39;00m\n",
      "File \u001b[0;32m~/Documents/AI/sciences/mental/OBF_Psychiatric_a_motor_activity_dataset_of_patients_diagnosed_with_major_depression_schizophrenia_and_ADHD/obf_class.py:47\u001b[0m, in \u001b[0;36mOBFDataset.__init__\u001b[0;34m(self, data_dir, groups, transform, id_from_filename, save, seq_len, use_seq)\u001b[0m\n\u001b[1;32m     43\u001b[0m \u001b[38;5;66;03m# Reshape for sequence models\u001b[39;00m\n\u001b[1;32m     45\u001b[0m \u001b[38;5;28;01mif\u001b[39;00m \u001b[38;5;28mself\u001b[39m\u001b[38;5;241m.\u001b[39muse_seq:\n\u001b[1;32m     46\u001b[0m   \u001b[38;5;66;03m# Reshape for sequence models only if use_seq is True\u001b[39;00m\n\u001b[0;32m---> 47\u001b[0m   \u001b[38;5;28mself\u001b[39m\u001b[38;5;241m.\u001b[39mfeatures \u001b[38;5;241m=\u001b[39m \u001b[38;5;28;43mself\u001b[39;49m\u001b[38;5;241;43m.\u001b[39;49m\u001b[43mfeatures\u001b[49m\u001b[38;5;241;43m.\u001b[39;49m\u001b[43mreshape\u001b[49m\u001b[43m(\u001b[49m\u001b[38;5;241;43m-\u001b[39;49m\u001b[38;5;241;43m1\u001b[39;49m\u001b[43m,\u001b[49m\u001b[43m \u001b[49m\u001b[38;5;28;43mself\u001b[39;49m\u001b[38;5;241;43m.\u001b[39;49m\u001b[43mseq_len\u001b[49m\u001b[43m,\u001b[49m\u001b[43m \u001b[49m\u001b[38;5;28;43mself\u001b[39;49m\u001b[38;5;241;43m.\u001b[39;49m\u001b[43mfeatures\u001b[49m\u001b[38;5;241;43m.\u001b[39;49m\u001b[43mshape\u001b[49m\u001b[43m[\u001b[49m\u001b[38;5;241;43m1\u001b[39;49m\u001b[43m]\u001b[49m\u001b[43m)\u001b[49m\n",
      "\u001b[0;31mRuntimeError\u001b[0m: shape '[-1, 7, 21]' is invalid for input of size 29127"
     ]
    }
   ],
   "source": [
    "from models import LSTMModel, CNN1DModel, TransformerModel\n",
    "# Use seq_len > 1 for LSTM, CNN, Transformer\n",
    "dataset = OBFDataset(data_directory, groups_to_include, seq_len=7, use_seq=True) #use seq and groupKfold\n",
    "\n",
    "# --- GroupKFold Cross-Validation ---\n",
    "group_kfold = GroupKFold(n_splits=5)  # Use 5 folds\n",
    "groups = dataset.data['number'].values  # Use 'number' for grouping\n",
    "\n",
    "for fold, (train_index, test_index) in enumerate(group_kfold.split(dataset.features, dataset.labels, groups)):\n",
    "    print(f\"Fold {fold+1}\")\n",
    "    train_sampler = torch.utils.data.SubsetRandomSampler(train_index)\n",
    "    test_sampler = torch.utils.data.SubsetRandomSampler(test_index)\n",
    "\n",
    "    train_loader = DataLoader(dataset, batch_size=32, sampler=train_sampler)\n",
    "    test_loader = DataLoader(dataset, batch_size=32, sampler=test_sampler)\n",
    "    \n",
    "    # --- Device ---\n",
    "    device = torch.device('cuda' if torch.cuda.is_available() else 'cpu')\n",
    "    print(f\"Using device: {device}\")\n",
    "    \n",
    "    \n",
    "    # --- Model Definition (Choose One) ---\n",
    "    input_size = dataset.features.shape[2]  #  (batch, seq_len, features)\n",
    "    num_classes = len(dataset.get_classes())\n",
    "    # 1. LSTM\n",
    "    # model = LSTMModel(input_size, hidden_size=64, num_layers=2, num_classes=num_classes, device = device)\n",
    "    # 2. CNN\n",
    "    # model = CNN1DModel(input_size, num_classes)\n",
    "    # 3. Transformer\n",
    "    model = TransformerModel(input_size, num_classes)\n",
    "\n",
    "    model.to(device)\n",
    "\n",
    "    # --- Loss and Optimizer ---\n",
    "    criterion = nn.CrossEntropyLoss()\n",
    "    optimizer = optim.Adam(model.parameters(), lr=0.001)\n",
    "\n",
    "    # --- Training ---\n",
    "    num_epochs = 30\n",
    "    train_losses, val_losses = train_model(model, train_loader, criterion, optimizer, num_epochs,device=device)  # No val_loader\n",
    "\n",
    "    # --- Evaluation ---\n",
    "    class_names = dataset.get_classes()\n",
    "    model_name = f'LSTMModel__Adam_64_model_fold_{fold+1}'\n",
    "    evaluate_model(model, test_loader, class_names, model_name,device=device)\n",
    "\n",
    "    # --- (Optional) Save Model ---\n",
    "    # (You could save the model after each fold, or only save the best-performing model)\n",
    "    os.makedirs('./models', exist_ok=True)\n",
    "    torch.save(model.state_dict(), f'./models/model_fold_{fold+1}.pth')\n",
    "    \n",
    "    plot_loss_function(train_losses,val_losses,model_name)\n",
    "    "
   ]
  },
  {
   "cell_type": "code",
   "execution_count": 4,
   "metadata": {},
   "outputs": [
    {
     "data": {
      "text/plain": [
       "[]"
      ]
     },
     "execution_count": 4,
     "metadata": {},
     "output_type": "execute_result"
    }
   ],
   "source": [
    "val_losses"
   ]
  },
  {
   "cell_type": "code",
   "execution_count": null,
   "metadata": {},
   "outputs": [],
   "source": []
  },
  {
   "cell_type": "code",
   "execution_count": null,
   "metadata": {},
   "outputs": [],
   "source": []
  }
 ],
 "metadata": {
  "accelerator": "GPU",
  "colab": {
   "gpuType": "T4",
   "provenance": []
  },
  "kernelspec": {
   "display_name": "Python 3 (ipykernel)",
   "language": "python",
   "name": "python3"
  },
  "language_info": {
   "codemirror_mode": {
    "name": "ipython",
    "version": 3
   },
   "file_extension": ".py",
   "mimetype": "text/x-python",
   "name": "python",
   "nbconvert_exporter": "python",
   "pygments_lexer": "ipython3",
   "version": "3.12.9"
  }
 },
 "nbformat": 4,
 "nbformat_minor": 4
}
